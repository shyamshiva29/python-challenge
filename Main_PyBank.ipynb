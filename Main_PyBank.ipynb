{
 "cells": [
  {
   "cell_type": "code",
   "execution_count": 1,
   "id": "d5575bb3-be17-4eee-a708-464d289eff04",
   "metadata": {},
   "outputs": [],
   "source": [
    "# Dependencies\n",
    "import csv\n",
    "from pathlib import Path\n",
    "# Files to load and output \n",
    "csvpath = Path('budget_data.csv')\n",
    "\n",
    "file_to_output = \"financial_analysis.txt\"\n",
    "\n",
    "# Track various financial parameters\n",
    "total_months = 0\n",
    "month_of_change = []\n",
    "profit_loss_change_list = []\n",
    "greatest_increase_profits = [\"\", 0]\n",
    "greatest_decrease_profits = [\"\", 9999999999999999999]\n",
    "total_profit_and_loss = 0\n",
    "# Read the csv and convert it into a list of dictionaries\n",
    "with open(csvpath, 'r') as csvfile:\n",
    "    csvreader = csv.reader(csvfile, delimiter=',')\n",
    "    csv_header = next(csvreader)\n",
    "    # Extract first row to avoid appending to net_change_list\n",
    "    first_row = next(csvreader)\n",
    "    total_months = total_months + 1\n",
    "    total_profit_and_loss = total_profit_and_loss + int(first_row[1])\n",
    "    prev_net = int(first_row[1])\n",
    "    for row in csvreader:\n",
    "        # Track the total\n",
    "        total_months = total_months + 1\n",
    "        total_profit_and_loss = total_profit_and_loss + int(row[1])\n",
    "        # Track the net change\n",
    "        net_change = int(row[1]) - prev_net\n",
    "        prev_net = int(row[1])\n",
    "        profit_loss_change_list = profit_loss_change_list + [net_change]\n",
    "        month_of_change = month_of_change + [row[0]]\n",
    "        # Calculate the greatest increase\n",
    "        if net_change > greatest_increase_profits[1]:\n",
    "            greatest_increase_profits[0] = row[0]\n",
    "            greatest_increase_profits[1] = net_change\n",
    "        # Calculate the greatest decrease\n",
    "        if net_change < greatest_decrease_profits[1]:\n",
    "            greatest_decrease_profits[0] = row[0]\n",
    "            greatest_decrease_profits[1] = net_change\n",
    "# Calculate the Average Net Change\n",
    "net_monthly_avg = round(sum(profit_loss_change_list) / len(profit_loss_change_list),2)\n",
    "# Export the results to text file\n",
    "with open(file_to_output, \"w\") as txt_file:\n",
    "    txt_file.write(f\"Financial Analysis\\n\")\n",
    "    txt_file.write(f\"----------------------------\\n\")\n",
    "    txt_file.write(f\"Total Months: {total_months}\\n\")\n",
    "    txt_file.write(f\"Total: ${total_profit_and_loss}\\n\")\n",
    "    txt_file.write(f\"Average  Change: ${net_monthly_avg}\\n\")\n",
    "    txt_file.write(f\"Greatest Increase in Profits: {greatest_increase_profits[0]} (${greatest_increase_profits[1]})\\n\")\n",
    "    txt_file.write(f\"Greatest Decrease in Profits: {greatest_decrease_profits[0]} (${greatest_decrease_profits[1]})\\n\")"
   ]
  },
  {
   "cell_type": "code",
   "execution_count": null,
   "id": "a9a09cdd-6494-473d-aebb-16a50115be6e",
   "metadata": {},
   "outputs": [],
   "source": []
  }
 ],
 "metadata": {
  "kernelspec": {
   "display_name": "Python 3 (ipykernel)",
   "language": "python",
   "name": "python3"
  },
  "language_info": {
   "codemirror_mode": {
    "name": "ipython",
    "version": 3
   },
   "file_extension": ".py",
   "mimetype": "text/x-python",
   "name": "python",
   "nbconvert_exporter": "python",
   "pygments_lexer": "ipython3",
   "version": "3.7.13"
  }
 },
 "nbformat": 4,
 "nbformat_minor": 5
}
