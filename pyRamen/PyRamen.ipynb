{
 "cells": [
  {
   "cell_type": "code",
   "execution_count": 1,
   "id": "755dc8ce-dea8-49b5-bfb7-13dbacf65429",
   "metadata": {},
   "outputs": [],
   "source": [
    "import csv"
   ]
  },
  {
   "cell_type": "code",
   "execution_count": 2,
   "id": "8c9284ac-7024-478c-b7b5-663043c64791",
   "metadata": {},
   "outputs": [],
   "source": [
    "from pathlib import Path"
   ]
  },
  {
   "cell_type": "code",
   "execution_count": 3,
   "id": "5c99d3e6-87cb-4ac7-8f38-62d21166fb75",
   "metadata": {},
   "outputs": [],
   "source": [
    "menu_filepath = Path('menu_data.csv')"
   ]
  },
  {
   "cell_type": "code",
   "execution_count": 4,
   "id": "b943f3d7-51fb-4316-94f4-fd8c16df6b9e",
   "metadata": {},
   "outputs": [],
   "source": [
    "sales_filepath = Path('sales_data.csv')"
   ]
  },
  {
   "cell_type": "code",
   "execution_count": 9,
   "id": "6df1d604-61b9-43be-8d59-534dd1230818",
   "metadata": {},
   "outputs": [],
   "source": [
    "menu = []\n",
    "sales = []\n",
    "\n",
    "with open(menu_filepath, 'r') as csvfile:\n",
    "    csvreader = csv.reader(csvfile, delimiter=',')\n",
    "    csv_header = next(csvreader)\n",
    "    for row in csvreader:\n",
    "        menu.append(row)"
   ]
  },
  {
   "cell_type": "code",
   "execution_count": null,
   "id": "a9271480-8265-45e3-b467-6c1132ee6bf3",
   "metadata": {},
   "outputs": [],
   "source": []
  },
  {
   "cell_type": "code",
   "execution_count": 11,
   "id": "281c15ba-b6ac-4ea3-9268-b724e2eb33b4",
   "metadata": {},
   "outputs": [],
   "source": [
    "with open(sales_filepath, 'r') as csvfile:\n",
    "    csvreader = csv.reader(csvfile, delimiter=',')\n",
    "    csv_header = next(csvreader)\n",
    "    for row in csvreader:\n",
    "        sales.append(row)\n",
    "\n",
    "    report = {}\n",
    "    row_count = 0\n",
    "\n",
    "    for row in csvreader:\n",
    "        \n",
    "        "
   ]
  },
  {
   "cell_type": "code",
   "execution_count": null,
   "id": "3b13bf32-7ae0-4c8c-806c-0157d7106774",
   "metadata": {},
   "outputs": [],
   "source": []
  },
  {
   "cell_type": "code",
   "execution_count": null,
   "id": "3cc56107-3e37-417c-aab9-59c973ce16eb",
   "metadata": {},
   "outputs": [],
   "source": []
  }
 ],
 "metadata": {
  "kernelspec": {
   "display_name": "Python 3 (ipykernel)",
   "language": "python",
   "name": "python3"
  },
  "language_info": {
   "codemirror_mode": {
    "name": "ipython",
    "version": 3
   },
   "file_extension": ".py",
   "mimetype": "text/x-python",
   "name": "python",
   "nbconvert_exporter": "python",
   "pygments_lexer": "ipython3",
   "version": "3.7.13"
  }
 },
 "nbformat": 4,
 "nbformat_minor": 5
}
